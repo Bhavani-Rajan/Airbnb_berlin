{
  "nbformat": 4,
  "nbformat_minor": 0,
  "metadata": {
    "colab": {
      "name": "Unit3_build_airbnb_data_cleaning.ipynb",
      "provenance": [],
      "collapsed_sections": []
    },
    "kernelspec": {
      "name": "python3",
      "display_name": "Python 3"
    }
  },
  "cells": [
    {
      "cell_type": "code",
      "metadata": {
        "id": "Y4VWUjaj3AFr",
        "colab_type": "code",
        "colab": {}
      },
      "source": [
        "from google.colab import files\n",
        "uploaded = files.upload()"
      ],
      "execution_count": 0,
      "outputs": []
    },
    {
      "cell_type": "code",
      "metadata": {
        "id": "m_khSYlk6HKM",
        "colab_type": "code",
        "colab": {}
      },
      "source": [
        "import pandas as pd\n",
        "from collections import Counter\n"
      ],
      "execution_count": 0,
      "outputs": []
    },
    {
      "cell_type": "code",
      "metadata": {
        "id": "gHHgINmT6L4h",
        "colab_type": "code",
        "colab": {}
      },
      "source": [
        "df = pd.read_csv('listings_summary.csv')"
      ],
      "execution_count": 0,
      "outputs": []
    },
    {
      "cell_type": "code",
      "metadata": {
        "id": "btc_L9dW6fmW",
        "colab_type": "code",
        "outputId": "5121d6af-f777-4391-aa0d-79149789dc2e",
        "colab": {
          "base_uri": "https://localhost:8080/",
          "height": 34
        }
      },
      "source": [
        "df.shape"
      ],
      "execution_count": 3,
      "outputs": [
        {
          "output_type": "execute_result",
          "data": {
            "text/plain": [
              "(22552, 96)"
            ]
          },
          "metadata": {
            "tags": []
          },
          "execution_count": 3
        }
      ]
    },
    {
      "cell_type": "code",
      "metadata": {
        "id": "b4nmfQOR6gbl",
        "colab_type": "code",
        "colab": {}
      },
      "source": [
        "df.head()"
      ],
      "execution_count": 0,
      "outputs": []
    },
    {
      "cell_type": "code",
      "metadata": {
        "id": "QoqCAe3B6j8G",
        "colab_type": "code",
        "colab": {}
      },
      "source": [
        "col = df.columns.sort_values()"
      ],
      "execution_count": 0,
      "outputs": []
    },
    {
      "cell_type": "code",
      "metadata": {
        "id": "xfdcbBvY6yuJ",
        "colab_type": "code",
        "outputId": "7bf44c5d-b220-4ca2-8b8d-a85b2decc3da",
        "colab": {
          "base_uri": "https://localhost:8080/",
          "height": 514
        }
      },
      "source": [
        "col"
      ],
      "execution_count": 6,
      "outputs": [
        {
          "output_type": "execute_result",
          "data": {
            "text/plain": [
              "Index(['access', 'accommodates', 'amenities', 'availability_30',\n",
              "       'availability_365', 'availability_60', 'availability_90', 'bathrooms',\n",
              "       'bed_type', 'bedrooms', 'beds', 'calculated_host_listings_count',\n",
              "       'calendar_last_scraped', 'calendar_updated', 'cancellation_policy',\n",
              "       'city', 'cleaning_fee', 'country', 'country_code', 'description',\n",
              "       'experiences_offered', 'extra_people', 'first_review',\n",
              "       'guests_included', 'has_availability', 'host_about',\n",
              "       'host_acceptance_rate', 'host_has_profile_pic', 'host_id',\n",
              "       'host_identity_verified', 'host_is_superhost', 'host_listings_count',\n",
              "       'host_location', 'host_name', 'host_neighbourhood', 'host_picture_url',\n",
              "       'host_response_rate', 'host_response_time', 'host_since',\n",
              "       'host_thumbnail_url', 'host_total_listings_count', 'host_url',\n",
              "       'host_verifications', 'house_rules', 'id', 'instant_bookable',\n",
              "       'interaction', 'is_business_travel_ready', 'is_location_exact',\n",
              "       'jurisdiction_names', 'last_review', 'last_scraped', 'latitude',\n",
              "       'license', 'listing_url', 'longitude', 'market', 'maximum_nights',\n",
              "       'medium_url', 'minimum_nights', 'monthly_price', 'name',\n",
              "       'neighborhood_overview', 'neighbourhood', 'neighbourhood_cleansed',\n",
              "       'neighbourhood_group_cleansed', 'notes', 'number_of_reviews',\n",
              "       'picture_url', 'price', 'property_type',\n",
              "       'require_guest_phone_verification', 'require_guest_profile_picture',\n",
              "       'requires_license', 'review_scores_accuracy', 'review_scores_checkin',\n",
              "       'review_scores_cleanliness', 'review_scores_communication',\n",
              "       'review_scores_location', 'review_scores_rating', 'review_scores_value',\n",
              "       'reviews_per_month', 'room_type', 'scrape_id', 'security_deposit',\n",
              "       'smart_location', 'space', 'square_feet', 'state', 'street', 'summary',\n",
              "       'thumbnail_url', 'transit', 'weekly_price', 'xl_picture_url',\n",
              "       'zipcode'],\n",
              "      dtype='object')"
            ]
          },
          "metadata": {
            "tags": []
          },
          "execution_count": 6
        }
      ]
    },
    {
      "cell_type": "code",
      "metadata": {
        "id": "4q-P2h2TuQGu",
        "colab_type": "code",
        "colab": {
          "base_uri": "https://localhost:8080/",
          "height": 103
        },
        "outputId": "c056db59-0399-4d2a-a430-e743f72ab16c"
      },
      "source": [
        "df['price'].describe()\n"
      ],
      "execution_count": 8,
      "outputs": [
        {
          "output_type": "execute_result",
          "data": {
            "text/plain": [
              "count      22552\n",
              "unique       295\n",
              "top       $30.00\n",
              "freq        1387\n",
              "Name: price, dtype: object"
            ]
          },
          "metadata": {
            "tags": []
          },
          "execution_count": 8
        }
      ]
    },
    {
      "cell_type": "code",
      "metadata": {
        "id": "UGlkEWAVHCFa",
        "colab_type": "code",
        "outputId": "3661d505-dfe1-469b-c0b2-e7cc5b558c69",
        "colab": {
          "base_uri": "https://localhost:8080/",
          "height": 120
        }
      },
      "source": [
        "df['amenities'].head()"
      ],
      "execution_count": 9,
      "outputs": [
        {
          "output_type": "execute_result",
          "data": {
            "text/plain": [
              "0    {TV,\"Cable TV\",Wifi,Kitchen,Gym,Heating,\"Famil...\n",
              "1    {Wifi,Kitchen,Elevator,Heating,Washer,Essentia...\n",
              "2    {Internet,Wifi,Kitchen,\"Buzzer/wireless interc...\n",
              "3    {Internet,Wifi,\"Pets allowed\",\"Pets live on th...\n",
              "4    {Wifi,Heating,\"Family/kid friendly\",Essentials...\n",
              "Name: amenities, dtype: object"
            ]
          },
          "metadata": {
            "tags": []
          },
          "execution_count": 9
        }
      ]
    },
    {
      "cell_type": "code",
      "metadata": {
        "id": "jJU5jMZkIKTT",
        "colab_type": "code",
        "colab": {}
      },
      "source": [
        ""
      ],
      "execution_count": 0,
      "outputs": []
    },
    {
      "cell_type": "code",
      "metadata": {
        "id": "ptD7dHYoIORu",
        "colab_type": "code",
        "outputId": "ff44b9db-e299-4fac-ea93-66c1d8b8d748",
        "colab": {
          "base_uri": "https://localhost:8080/",
          "height": 531
        }
      },
      "source": [
        "results = Counter()\n",
        "df['amenities'].str.strip('{}')\\\n",
        "               .str.replace('\"', '')\\\n",
        "               .str.lstrip('\\\"')\\\n",
        "               .str.rstrip('\\\"')\\\n",
        "               .str.split(',')\\\n",
        "               .apply(results.update)\n",
        "\n",
        "results.most_common(30)"
      ],
      "execution_count": 10,
      "outputs": [
        {
          "output_type": "execute_result",
          "data": {
            "text/plain": [
              "[('Wifi', 21512),\n",
              " ('Kitchen', 21332),\n",
              " ('Heating', 21190),\n",
              " ('Essentials', 20329),\n",
              " ('Washer', 18497),\n",
              " ('Hair dryer', 14891),\n",
              " ('Laptop friendly workspace', 14447),\n",
              " ('Hangers', 13908),\n",
              " ('Iron', 11206),\n",
              " ('Shampoo', 10654),\n",
              " ('TV', 10134),\n",
              " ('Hot water', 9744),\n",
              " ('Family/kid friendly', 8141),\n",
              " ('Internet', 7909),\n",
              " ('Host greets you', 6663),\n",
              " ('Smoke detector', 6457),\n",
              " ('Buzzer/wireless intercom', 6116),\n",
              " ('Lock on bedroom door', 5294),\n",
              " ('Refrigerator', 5212),\n",
              " ('Free street parking', 5190),\n",
              " ('Dishes and silverware', 5082),\n",
              " ('Elevator', 4867),\n",
              " ('Bed linens', 4842),\n",
              " ('Cooking basics', 4834),\n",
              " ('Stove', 4816),\n",
              " ('Smoking allowed', 4589),\n",
              " ('Oven', 4312),\n",
              " ('translation missing: en.hosting_amenity_50', 4184),\n",
              " ('First aid kit', 4011),\n",
              " ('Cable TV', 3725)]"
            ]
          },
          "metadata": {
            "tags": []
          },
          "execution_count": 10
        }
      ]
    },
    {
      "cell_type": "code",
      "metadata": {
        "id": "7XtnS-DwIXBv",
        "colab_type": "code",
        "colab": {}
      },
      "source": [
        "df_amenities = pd.DataFrame(results.most_common(30), columns=['amenity', 'count'])"
      ],
      "execution_count": 0,
      "outputs": []
    },
    {
      "cell_type": "code",
      "metadata": {
        "id": "AxV2Kv3RlFek",
        "colab_type": "code",
        "outputId": "050868b5-42cc-4531-8284-8f192ddc8bcd",
        "colab": {
          "base_uri": "https://localhost:8080/",
          "height": 974
        }
      },
      "source": [
        "df_amenities"
      ],
      "execution_count": 13,
      "outputs": [
        {
          "output_type": "execute_result",
          "data": {
            "text/html": [
              "<div>\n",
              "<style scoped>\n",
              "    .dataframe tbody tr th:only-of-type {\n",
              "        vertical-align: middle;\n",
              "    }\n",
              "\n",
              "    .dataframe tbody tr th {\n",
              "        vertical-align: top;\n",
              "    }\n",
              "\n",
              "    .dataframe thead th {\n",
              "        text-align: right;\n",
              "    }\n",
              "</style>\n",
              "<table border=\"1\" class=\"dataframe\">\n",
              "  <thead>\n",
              "    <tr style=\"text-align: right;\">\n",
              "      <th></th>\n",
              "      <th>amenity</th>\n",
              "      <th>count</th>\n",
              "    </tr>\n",
              "  </thead>\n",
              "  <tbody>\n",
              "    <tr>\n",
              "      <th>0</th>\n",
              "      <td>Wifi</td>\n",
              "      <td>21512</td>\n",
              "    </tr>\n",
              "    <tr>\n",
              "      <th>1</th>\n",
              "      <td>Kitchen</td>\n",
              "      <td>21332</td>\n",
              "    </tr>\n",
              "    <tr>\n",
              "      <th>2</th>\n",
              "      <td>Heating</td>\n",
              "      <td>21190</td>\n",
              "    </tr>\n",
              "    <tr>\n",
              "      <th>3</th>\n",
              "      <td>Essentials</td>\n",
              "      <td>20329</td>\n",
              "    </tr>\n",
              "    <tr>\n",
              "      <th>4</th>\n",
              "      <td>Washer</td>\n",
              "      <td>18497</td>\n",
              "    </tr>\n",
              "    <tr>\n",
              "      <th>5</th>\n",
              "      <td>Hair dryer</td>\n",
              "      <td>14891</td>\n",
              "    </tr>\n",
              "    <tr>\n",
              "      <th>6</th>\n",
              "      <td>Laptop friendly workspace</td>\n",
              "      <td>14447</td>\n",
              "    </tr>\n",
              "    <tr>\n",
              "      <th>7</th>\n",
              "      <td>Hangers</td>\n",
              "      <td>13908</td>\n",
              "    </tr>\n",
              "    <tr>\n",
              "      <th>8</th>\n",
              "      <td>Iron</td>\n",
              "      <td>11206</td>\n",
              "    </tr>\n",
              "    <tr>\n",
              "      <th>9</th>\n",
              "      <td>Shampoo</td>\n",
              "      <td>10654</td>\n",
              "    </tr>\n",
              "    <tr>\n",
              "      <th>10</th>\n",
              "      <td>TV</td>\n",
              "      <td>10134</td>\n",
              "    </tr>\n",
              "    <tr>\n",
              "      <th>11</th>\n",
              "      <td>Hot water</td>\n",
              "      <td>9744</td>\n",
              "    </tr>\n",
              "    <tr>\n",
              "      <th>12</th>\n",
              "      <td>Family/kid friendly</td>\n",
              "      <td>8141</td>\n",
              "    </tr>\n",
              "    <tr>\n",
              "      <th>13</th>\n",
              "      <td>Internet</td>\n",
              "      <td>7909</td>\n",
              "    </tr>\n",
              "    <tr>\n",
              "      <th>14</th>\n",
              "      <td>Host greets you</td>\n",
              "      <td>6663</td>\n",
              "    </tr>\n",
              "    <tr>\n",
              "      <th>15</th>\n",
              "      <td>Smoke detector</td>\n",
              "      <td>6457</td>\n",
              "    </tr>\n",
              "    <tr>\n",
              "      <th>16</th>\n",
              "      <td>Buzzer/wireless intercom</td>\n",
              "      <td>6116</td>\n",
              "    </tr>\n",
              "    <tr>\n",
              "      <th>17</th>\n",
              "      <td>Lock on bedroom door</td>\n",
              "      <td>5294</td>\n",
              "    </tr>\n",
              "    <tr>\n",
              "      <th>18</th>\n",
              "      <td>Refrigerator</td>\n",
              "      <td>5212</td>\n",
              "    </tr>\n",
              "    <tr>\n",
              "      <th>19</th>\n",
              "      <td>Free street parking</td>\n",
              "      <td>5190</td>\n",
              "    </tr>\n",
              "    <tr>\n",
              "      <th>20</th>\n",
              "      <td>Dishes and silverware</td>\n",
              "      <td>5082</td>\n",
              "    </tr>\n",
              "    <tr>\n",
              "      <th>21</th>\n",
              "      <td>Elevator</td>\n",
              "      <td>4867</td>\n",
              "    </tr>\n",
              "    <tr>\n",
              "      <th>22</th>\n",
              "      <td>Bed linens</td>\n",
              "      <td>4842</td>\n",
              "    </tr>\n",
              "    <tr>\n",
              "      <th>23</th>\n",
              "      <td>Cooking basics</td>\n",
              "      <td>4834</td>\n",
              "    </tr>\n",
              "    <tr>\n",
              "      <th>24</th>\n",
              "      <td>Stove</td>\n",
              "      <td>4816</td>\n",
              "    </tr>\n",
              "    <tr>\n",
              "      <th>25</th>\n",
              "      <td>Smoking allowed</td>\n",
              "      <td>4589</td>\n",
              "    </tr>\n",
              "    <tr>\n",
              "      <th>26</th>\n",
              "      <td>Oven</td>\n",
              "      <td>4312</td>\n",
              "    </tr>\n",
              "    <tr>\n",
              "      <th>27</th>\n",
              "      <td>translation missing: en.hosting_amenity_50</td>\n",
              "      <td>4184</td>\n",
              "    </tr>\n",
              "    <tr>\n",
              "      <th>28</th>\n",
              "      <td>First aid kit</td>\n",
              "      <td>4011</td>\n",
              "    </tr>\n",
              "    <tr>\n",
              "      <th>29</th>\n",
              "      <td>Cable TV</td>\n",
              "      <td>3725</td>\n",
              "    </tr>\n",
              "  </tbody>\n",
              "</table>\n",
              "</div>"
            ],
            "text/plain": [
              "                                       amenity  count\n",
              "0                                         Wifi  21512\n",
              "1                                      Kitchen  21332\n",
              "2                                      Heating  21190\n",
              "3                                   Essentials  20329\n",
              "4                                       Washer  18497\n",
              "5                                   Hair dryer  14891\n",
              "6                    Laptop friendly workspace  14447\n",
              "7                                      Hangers  13908\n",
              "8                                         Iron  11206\n",
              "9                                      Shampoo  10654\n",
              "10                                          TV  10134\n",
              "11                                   Hot water   9744\n",
              "12                         Family/kid friendly   8141\n",
              "13                                    Internet   7909\n",
              "14                             Host greets you   6663\n",
              "15                              Smoke detector   6457\n",
              "16                    Buzzer/wireless intercom   6116\n",
              "17                        Lock on bedroom door   5294\n",
              "18                                Refrigerator   5212\n",
              "19                         Free street parking   5190\n",
              "20                       Dishes and silverware   5082\n",
              "21                                    Elevator   4867\n",
              "22                                  Bed linens   4842\n",
              "23                              Cooking basics   4834\n",
              "24                                       Stove   4816\n",
              "25                             Smoking allowed   4589\n",
              "26                                        Oven   4312\n",
              "27  translation missing: en.hosting_amenity_50   4184\n",
              "28                               First aid kit   4011\n",
              "29                                    Cable TV   3725"
            ]
          },
          "metadata": {
            "tags": []
          },
          "execution_count": 13
        }
      ]
    },
    {
      "cell_type": "code",
      "metadata": {
        "id": "UomF51skIjhR",
        "colab_type": "code",
        "colab": {}
      },
      "source": [
        "df['Wifi'] = df['amenities'].str.contains('Wifi')\n",
        "df['Laptop_friendly_workspace'] = df['amenities'].str.contains('Laptop friendly workspace')\n",
        "df['TV'] = df['amenities'].str.contains('TV')\n",
        "df['Family_kid_friendly'] = df['amenities'].str.contains('Family/kid friendly')\n",
        "df['Host_greets_you'] = df['amenities'].str.contains('Host greets you')\n",
        "df['Smoking_allowed'] = df['amenities'].str.contains('Smoking allowed')"
      ],
      "execution_count": 0,
      "outputs": []
    },
    {
      "cell_type": "code",
      "metadata": {
        "id": "oHBWv1fZI_1v",
        "colab_type": "code",
        "colab": {}
      },
      "source": [
        "col_keep = ['price','cleaning_fee','accommodates','minimum_nights','bedrooms','bathrooms',\n",
        "            'neighbourhood_group_cleansed','room_type','description','extra_people',\n",
        "            'Laptop_friendly_workspace','TV','Wifi','Family_kid_friendly','Host_greets_you','Smoking_allowed']"
      ],
      "execution_count": 0,
      "outputs": []
    },
    {
      "cell_type": "code",
      "metadata": {
        "id": "H0cnm5VpFrOz",
        "colab_type": "code",
        "colab": {}
      },
      "source": [
        "df_col = df[col_keep] "
      ],
      "execution_count": 0,
      "outputs": []
    },
    {
      "cell_type": "code",
      "metadata": {
        "id": "NL0w58lbLaGW",
        "colab_type": "code",
        "outputId": "64847895-90d4-44bc-8428-72ab7f8fd8e5",
        "colab": {
          "base_uri": "https://localhost:8080/",
          "height": 34
        }
      },
      "source": [
        "df_col.shape"
      ],
      "execution_count": 47,
      "outputs": [
        {
          "output_type": "execute_result",
          "data": {
            "text/plain": [
              "(22552, 16)"
            ]
          },
          "metadata": {
            "tags": []
          },
          "execution_count": 47
        }
      ]
    },
    {
      "cell_type": "code",
      "metadata": {
        "id": "aUEAkVscLcAE",
        "colab_type": "code",
        "outputId": "1505f53c-6bd7-40a7-b562-d3094514bf07",
        "colab": {
          "base_uri": "https://localhost:8080/",
          "height": 377
        }
      },
      "source": [
        "df_col.info()"
      ],
      "execution_count": 48,
      "outputs": [
        {
          "output_type": "stream",
          "text": [
            "<class 'pandas.core.frame.DataFrame'>\n",
            "RangeIndex: 22552 entries, 0 to 22551\n",
            "Data columns (total 16 columns):\n",
            "price                           22552 non-null object\n",
            "cleaning_fee                    15406 non-null object\n",
            "accommodates                    22552 non-null int64\n",
            "minimum_nights                  22552 non-null int64\n",
            "bedrooms                        22534 non-null float64\n",
            "bathrooms                       22520 non-null float64\n",
            "neighbourhood_group_cleansed    22552 non-null object\n",
            "room_type                       22552 non-null object\n",
            "description                     22349 non-null object\n",
            "extra_people                    22552 non-null object\n",
            "Laptop_friendly_workspace       22552 non-null bool\n",
            "TV                              22552 non-null bool\n",
            "Wifi                            22552 non-null bool\n",
            "Family_kid_friendly             22552 non-null bool\n",
            "Host_greets_you                 22552 non-null bool\n",
            "Smoking_allowed                 22552 non-null bool\n",
            "dtypes: bool(6), float64(2), int64(2), object(6)\n",
            "memory usage: 1.8+ MB\n"
          ],
          "name": "stdout"
        }
      ]
    },
    {
      "cell_type": "code",
      "metadata": {
        "id": "EwDcZ8TlMWrZ",
        "colab_type": "code",
        "outputId": "857c62b5-5861-447d-a6ea-51d776d450e8",
        "colab": {
          "base_uri": "https://localhost:8080/",
          "height": 203
        }
      },
      "source": [
        "df_col[['price','cleaning_fee','extra_people']].head()"
      ],
      "execution_count": 49,
      "outputs": [
        {
          "output_type": "execute_result",
          "data": {
            "text/html": [
              "<div>\n",
              "<style scoped>\n",
              "    .dataframe tbody tr th:only-of-type {\n",
              "        vertical-align: middle;\n",
              "    }\n",
              "\n",
              "    .dataframe tbody tr th {\n",
              "        vertical-align: top;\n",
              "    }\n",
              "\n",
              "    .dataframe thead th {\n",
              "        text-align: right;\n",
              "    }\n",
              "</style>\n",
              "<table border=\"1\" class=\"dataframe\">\n",
              "  <thead>\n",
              "    <tr style=\"text-align: right;\">\n",
              "      <th></th>\n",
              "      <th>price</th>\n",
              "      <th>cleaning_fee</th>\n",
              "      <th>extra_people</th>\n",
              "    </tr>\n",
              "  </thead>\n",
              "  <tbody>\n",
              "    <tr>\n",
              "      <th>0</th>\n",
              "      <td>$60.00</td>\n",
              "      <td>$30.00</td>\n",
              "      <td>$28.00</td>\n",
              "    </tr>\n",
              "    <tr>\n",
              "      <th>1</th>\n",
              "      <td>$17.00</td>\n",
              "      <td>$0.00</td>\n",
              "      <td>$0.00</td>\n",
              "    </tr>\n",
              "    <tr>\n",
              "      <th>2</th>\n",
              "      <td>$90.00</td>\n",
              "      <td>$50.00</td>\n",
              "      <td>$20.00</td>\n",
              "    </tr>\n",
              "    <tr>\n",
              "      <th>3</th>\n",
              "      <td>$26.00</td>\n",
              "      <td>$30.00</td>\n",
              "      <td>$18.00</td>\n",
              "    </tr>\n",
              "    <tr>\n",
              "      <th>4</th>\n",
              "      <td>$42.00</td>\n",
              "      <td>$0.00</td>\n",
              "      <td>$24.00</td>\n",
              "    </tr>\n",
              "  </tbody>\n",
              "</table>\n",
              "</div>"
            ],
            "text/plain": [
              "    price cleaning_fee extra_people\n",
              "0  $60.00       $30.00       $28.00\n",
              "1  $17.00        $0.00        $0.00\n",
              "2  $90.00       $50.00       $20.00\n",
              "3  $26.00       $30.00       $18.00\n",
              "4  $42.00        $0.00       $24.00"
            ]
          },
          "metadata": {
            "tags": []
          },
          "execution_count": 49
        }
      ]
    },
    {
      "cell_type": "code",
      "metadata": {
        "id": "vVwoscbSv9ez",
        "colab_type": "code",
        "colab": {
          "base_uri": "https://localhost:8080/",
          "height": 86
        },
        "outputId": "4330009f-bd65-4594-fe20-8d520aba1481"
      },
      "source": [
        "df_col[['price','cleaning_fee','extra_people']].isnull().sum()"
      ],
      "execution_count": 50,
      "outputs": [
        {
          "output_type": "execute_result",
          "data": {
            "text/plain": [
              "price              0\n",
              "cleaning_fee    7146\n",
              "extra_people       0\n",
              "dtype: int64"
            ]
          },
          "metadata": {
            "tags": []
          },
          "execution_count": 50
        }
      ]
    },
    {
      "cell_type": "markdown",
      "metadata": {
        "id": "QbL7JpS0vscV",
        "colab_type": "text"
      },
      "source": [
        "replacing the null values to $0.00"
      ]
    },
    {
      "cell_type": "code",
      "metadata": {
        "id": "qVnVsJ1lv4S_",
        "colab_type": "code",
        "colab": {
          "base_uri": "https://localhost:8080/",
          "height": 123
        },
        "outputId": "89aa11bc-9011-4a42-f911-a9a67edf6564"
      },
      "source": [
        "df_col.cleaning_fee.fillna('$0.00', inplace=True)"
      ],
      "execution_count": 51,
      "outputs": [
        {
          "output_type": "stream",
          "text": [
            "/usr/local/lib/python3.6/dist-packages/pandas/core/generic.py:6287: SettingWithCopyWarning: \n",
            "A value is trying to be set on a copy of a slice from a DataFrame\n",
            "\n",
            "See the caveats in the documentation: http://pandas.pydata.org/pandas-docs/stable/user_guide/indexing.html#returning-a-view-versus-a-copy\n",
            "  self._update_inplace(new_data)\n"
          ],
          "name": "stderr"
        }
      ]
    },
    {
      "cell_type": "code",
      "metadata": {
        "id": "I0AbUY1KwGKQ",
        "colab_type": "code",
        "colab": {
          "base_uri": "https://localhost:8080/",
          "height": 86
        },
        "outputId": "9a09fe99-a048-4945-dd6a-e0802db4557a"
      },
      "source": [
        "df_col[['price','cleaning_fee','extra_people']].isnull().sum()"
      ],
      "execution_count": 52,
      "outputs": [
        {
          "output_type": "execute_result",
          "data": {
            "text/plain": [
              "price           0\n",
              "cleaning_fee    0\n",
              "extra_people    0\n",
              "dtype: int64"
            ]
          },
          "metadata": {
            "tags": []
          },
          "execution_count": 52
        }
      ]
    },
    {
      "cell_type": "markdown",
      "metadata": {
        "id": "ck9iqQwawLOb",
        "colab_type": "text"
      },
      "source": [
        "remove the dollar sign and commas, convert the string to float"
      ]
    },
    {
      "cell_type": "code",
      "metadata": {
        "id": "vEG1SsSXvhUI",
        "colab_type": "code",
        "colab": {
          "base_uri": "https://localhost:8080/",
          "height": 346
        },
        "outputId": "f80bf9f9-1aff-4ae4-c7dc-6dc22c03f9c0"
      },
      "source": [
        "df_col['price'] = df_col['price'].str.replace('$', '').str.replace(',', '').astype(float)\n",
        "df_col['cleaning_fee'] = df_col['cleaning_fee'].str.replace('$', '').str.replace(',', '').astype(float)\n",
        "df_col['extra_people'] = df_col['extra_people'].str.replace('$', '').str.replace(',', '').astype(float)"
      ],
      "execution_count": 53,
      "outputs": [
        {
          "output_type": "stream",
          "text": [
            "/usr/local/lib/python3.6/dist-packages/ipykernel_launcher.py:1: SettingWithCopyWarning: \n",
            "A value is trying to be set on a copy of a slice from a DataFrame.\n",
            "Try using .loc[row_indexer,col_indexer] = value instead\n",
            "\n",
            "See the caveats in the documentation: http://pandas.pydata.org/pandas-docs/stable/user_guide/indexing.html#returning-a-view-versus-a-copy\n",
            "  \"\"\"Entry point for launching an IPython kernel.\n",
            "/usr/local/lib/python3.6/dist-packages/ipykernel_launcher.py:2: SettingWithCopyWarning: \n",
            "A value is trying to be set on a copy of a slice from a DataFrame.\n",
            "Try using .loc[row_indexer,col_indexer] = value instead\n",
            "\n",
            "See the caveats in the documentation: http://pandas.pydata.org/pandas-docs/stable/user_guide/indexing.html#returning-a-view-versus-a-copy\n",
            "  \n",
            "/usr/local/lib/python3.6/dist-packages/ipykernel_launcher.py:3: SettingWithCopyWarning: \n",
            "A value is trying to be set on a copy of a slice from a DataFrame.\n",
            "Try using .loc[row_indexer,col_indexer] = value instead\n",
            "\n",
            "See the caveats in the documentation: http://pandas.pydata.org/pandas-docs/stable/user_guide/indexing.html#returning-a-view-versus-a-copy\n",
            "  This is separate from the ipykernel package so we can avoid doing imports until\n"
          ],
          "name": "stderr"
        }
      ]
    },
    {
      "cell_type": "code",
      "metadata": {
        "id": "bWxRB_PawWi8",
        "colab_type": "code",
        "colab": {
          "base_uri": "https://localhost:8080/",
          "height": 86
        },
        "outputId": "82e4a026-a968-4a55-a3ae-21e7070de012"
      },
      "source": [
        "df_col[['price','cleaning_fee','extra_people']].dtypes"
      ],
      "execution_count": 54,
      "outputs": [
        {
          "output_type": "execute_result",
          "data": {
            "text/plain": [
              "price           float64\n",
              "cleaning_fee    float64\n",
              "extra_people    float64\n",
              "dtype: object"
            ]
          },
          "metadata": {
            "tags": []
          },
          "execution_count": 54
        }
      ]
    },
    {
      "cell_type": "code",
      "metadata": {
        "id": "0P-TLAnanWXI",
        "colab_type": "code",
        "outputId": "c514a9c9-e5c5-441a-c5e8-1f6272f390b5",
        "colab": {
          "base_uri": "https://localhost:8080/",
          "height": 308
        }
      },
      "source": [
        "df_col.isnull().sum()"
      ],
      "execution_count": 55,
      "outputs": [
        {
          "output_type": "execute_result",
          "data": {
            "text/plain": [
              "price                             0\n",
              "cleaning_fee                      0\n",
              "accommodates                      0\n",
              "minimum_nights                    0\n",
              "bedrooms                         18\n",
              "bathrooms                        32\n",
              "neighbourhood_group_cleansed      0\n",
              "room_type                         0\n",
              "description                     203\n",
              "extra_people                      0\n",
              "Laptop_friendly_workspace         0\n",
              "TV                                0\n",
              "Wifi                              0\n",
              "Family_kid_friendly               0\n",
              "Host_greets_you                   0\n",
              "Smoking_allowed                   0\n",
              "dtype: int64"
            ]
          },
          "metadata": {
            "tags": []
          },
          "execution_count": 55
        }
      ]
    },
    {
      "cell_type": "code",
      "metadata": {
        "id": "fPWxKeFHN1_Y",
        "colab_type": "code",
        "outputId": "ac393891-c085-48db-b561-40fca5db750d",
        "colab": {
          "base_uri": "https://localhost:8080/",
          "height": 308
        }
      },
      "source": [
        "df_col.dtypes"
      ],
      "execution_count": 56,
      "outputs": [
        {
          "output_type": "execute_result",
          "data": {
            "text/plain": [
              "price                           float64\n",
              "cleaning_fee                    float64\n",
              "accommodates                      int64\n",
              "minimum_nights                    int64\n",
              "bedrooms                        float64\n",
              "bathrooms                       float64\n",
              "neighbourhood_group_cleansed     object\n",
              "room_type                        object\n",
              "description                      object\n",
              "extra_people                    float64\n",
              "Laptop_friendly_workspace          bool\n",
              "TV                                 bool\n",
              "Wifi                               bool\n",
              "Family_kid_friendly                bool\n",
              "Host_greets_you                    bool\n",
              "Smoking_allowed                    bool\n",
              "dtype: object"
            ]
          },
          "metadata": {
            "tags": []
          },
          "execution_count": 56
        }
      ]
    },
    {
      "cell_type": "code",
      "metadata": {
        "id": "NDbemjndN3-o",
        "colab_type": "code",
        "outputId": "e123444f-d963-4ce3-a64c-287e67ed8dc3",
        "colab": {
          "base_uri": "https://localhost:8080/",
          "height": 315
        }
      },
      "source": [
        "df_col.describe()"
      ],
      "execution_count": 57,
      "outputs": [
        {
          "output_type": "execute_result",
          "data": {
            "text/html": [
              "<div>\n",
              "<style scoped>\n",
              "    .dataframe tbody tr th:only-of-type {\n",
              "        vertical-align: middle;\n",
              "    }\n",
              "\n",
              "    .dataframe tbody tr th {\n",
              "        vertical-align: top;\n",
              "    }\n",
              "\n",
              "    .dataframe thead th {\n",
              "        text-align: right;\n",
              "    }\n",
              "</style>\n",
              "<table border=\"1\" class=\"dataframe\">\n",
              "  <thead>\n",
              "    <tr style=\"text-align: right;\">\n",
              "      <th></th>\n",
              "      <th>price</th>\n",
              "      <th>cleaning_fee</th>\n",
              "      <th>accommodates</th>\n",
              "      <th>minimum_nights</th>\n",
              "      <th>bedrooms</th>\n",
              "      <th>bathrooms</th>\n",
              "      <th>extra_people</th>\n",
              "    </tr>\n",
              "  </thead>\n",
              "  <tbody>\n",
              "    <tr>\n",
              "      <th>count</th>\n",
              "      <td>22552.000000</td>\n",
              "      <td>22552.000000</td>\n",
              "      <td>22552.000000</td>\n",
              "      <td>22552.000000</td>\n",
              "      <td>22534.000000</td>\n",
              "      <td>22520.000000</td>\n",
              "      <td>22552.000000</td>\n",
              "    </tr>\n",
              "    <tr>\n",
              "      <th>mean</th>\n",
              "      <td>67.143668</td>\n",
              "      <td>18.253991</td>\n",
              "      <td>2.637460</td>\n",
              "      <td>7.157059</td>\n",
              "      <td>1.161134</td>\n",
              "      <td>1.092695</td>\n",
              "      <td>8.257716</td>\n",
              "    </tr>\n",
              "    <tr>\n",
              "      <th>std</th>\n",
              "      <td>220.266210</td>\n",
              "      <td>28.172816</td>\n",
              "      <td>1.510548</td>\n",
              "      <td>40.665073</td>\n",
              "      <td>0.646156</td>\n",
              "      <td>0.329894</td>\n",
              "      <td>11.151069</td>\n",
              "    </tr>\n",
              "    <tr>\n",
              "      <th>min</th>\n",
              "      <td>0.000000</td>\n",
              "      <td>0.000000</td>\n",
              "      <td>1.000000</td>\n",
              "      <td>1.000000</td>\n",
              "      <td>0.000000</td>\n",
              "      <td>0.000000</td>\n",
              "      <td>0.000000</td>\n",
              "    </tr>\n",
              "    <tr>\n",
              "      <th>25%</th>\n",
              "      <td>30.000000</td>\n",
              "      <td>0.000000</td>\n",
              "      <td>2.000000</td>\n",
              "      <td>2.000000</td>\n",
              "      <td>1.000000</td>\n",
              "      <td>1.000000</td>\n",
              "      <td>0.000000</td>\n",
              "    </tr>\n",
              "    <tr>\n",
              "      <th>50%</th>\n",
              "      <td>45.000000</td>\n",
              "      <td>10.000000</td>\n",
              "      <td>2.000000</td>\n",
              "      <td>2.000000</td>\n",
              "      <td>1.000000</td>\n",
              "      <td>1.000000</td>\n",
              "      <td>5.000000</td>\n",
              "    </tr>\n",
              "    <tr>\n",
              "      <th>75%</th>\n",
              "      <td>70.000000</td>\n",
              "      <td>30.000000</td>\n",
              "      <td>3.000000</td>\n",
              "      <td>4.000000</td>\n",
              "      <td>1.000000</td>\n",
              "      <td>1.000000</td>\n",
              "      <td>15.000000</td>\n",
              "    </tr>\n",
              "    <tr>\n",
              "      <th>max</th>\n",
              "      <td>9000.000000</td>\n",
              "      <td>2000.000000</td>\n",
              "      <td>16.000000</td>\n",
              "      <td>5000.000000</td>\n",
              "      <td>12.000000</td>\n",
              "      <td>8.500000</td>\n",
              "      <td>250.000000</td>\n",
              "    </tr>\n",
              "  </tbody>\n",
              "</table>\n",
              "</div>"
            ],
            "text/plain": [
              "              price  cleaning_fee  ...     bathrooms  extra_people\n",
              "count  22552.000000  22552.000000  ...  22520.000000  22552.000000\n",
              "mean      67.143668     18.253991  ...      1.092695      8.257716\n",
              "std      220.266210     28.172816  ...      0.329894     11.151069\n",
              "min        0.000000      0.000000  ...      0.000000      0.000000\n",
              "25%       30.000000      0.000000  ...      1.000000      0.000000\n",
              "50%       45.000000     10.000000  ...      1.000000      5.000000\n",
              "75%       70.000000     30.000000  ...      1.000000     15.000000\n",
              "max     9000.000000   2000.000000  ...      8.500000    250.000000\n",
              "\n",
              "[8 rows x 7 columns]"
            ]
          },
          "metadata": {
            "tags": []
          },
          "execution_count": 57
        }
      ]
    },
    {
      "cell_type": "code",
      "metadata": {
        "id": "EsyFl4arl15E",
        "colab_type": "code",
        "outputId": "33ca58d6-f23d-4660-c89b-a995a61493b5",
        "colab": {
          "base_uri": "https://localhost:8080/",
          "height": 243
        }
      },
      "source": [
        "df_col.describe(exclude='number')"
      ],
      "execution_count": 58,
      "outputs": [
        {
          "output_type": "execute_result",
          "data": {
            "text/html": [
              "<div>\n",
              "<style scoped>\n",
              "    .dataframe tbody tr th:only-of-type {\n",
              "        vertical-align: middle;\n",
              "    }\n",
              "\n",
              "    .dataframe tbody tr th {\n",
              "        vertical-align: top;\n",
              "    }\n",
              "\n",
              "    .dataframe thead th {\n",
              "        text-align: right;\n",
              "    }\n",
              "</style>\n",
              "<table border=\"1\" class=\"dataframe\">\n",
              "  <thead>\n",
              "    <tr style=\"text-align: right;\">\n",
              "      <th></th>\n",
              "      <th>neighbourhood_group_cleansed</th>\n",
              "      <th>room_type</th>\n",
              "      <th>description</th>\n",
              "      <th>Laptop_friendly_workspace</th>\n",
              "      <th>TV</th>\n",
              "      <th>Wifi</th>\n",
              "      <th>Family_kid_friendly</th>\n",
              "      <th>Host_greets_you</th>\n",
              "      <th>Smoking_allowed</th>\n",
              "    </tr>\n",
              "  </thead>\n",
              "  <tbody>\n",
              "    <tr>\n",
              "      <th>count</th>\n",
              "      <td>22552</td>\n",
              "      <td>22552</td>\n",
              "      <td>22349</td>\n",
              "      <td>22552</td>\n",
              "      <td>22552</td>\n",
              "      <td>22552</td>\n",
              "      <td>22552</td>\n",
              "      <td>22552</td>\n",
              "      <td>22552</td>\n",
              "    </tr>\n",
              "    <tr>\n",
              "      <th>unique</th>\n",
              "      <td>12</td>\n",
              "      <td>3</td>\n",
              "      <td>21997</td>\n",
              "      <td>2</td>\n",
              "      <td>2</td>\n",
              "      <td>2</td>\n",
              "      <td>2</td>\n",
              "      <td>2</td>\n",
              "      <td>2</td>\n",
              "    </tr>\n",
              "    <tr>\n",
              "      <th>top</th>\n",
              "      <td>Friedrichshain-Kreuzberg</td>\n",
              "      <td>Private room</td>\n",
              "      <td>We are located in one of the most colorful dis...</td>\n",
              "      <td>True</td>\n",
              "      <td>False</td>\n",
              "      <td>True</td>\n",
              "      <td>False</td>\n",
              "      <td>False</td>\n",
              "      <td>False</td>\n",
              "    </tr>\n",
              "    <tr>\n",
              "      <th>freq</th>\n",
              "      <td>5497</td>\n",
              "      <td>11534</td>\n",
              "      <td>12</td>\n",
              "      <td>14447</td>\n",
              "      <td>12297</td>\n",
              "      <td>21512</td>\n",
              "      <td>14411</td>\n",
              "      <td>15889</td>\n",
              "      <td>17963</td>\n",
              "    </tr>\n",
              "  </tbody>\n",
              "</table>\n",
              "</div>"
            ],
            "text/plain": [
              "       neighbourhood_group_cleansed  ... Smoking_allowed\n",
              "count                         22552  ...           22552\n",
              "unique                           12  ...               2\n",
              "top        Friedrichshain-Kreuzberg  ...           False\n",
              "freq                           5497  ...           17963\n",
              "\n",
              "[4 rows x 9 columns]"
            ]
          },
          "metadata": {
            "tags": []
          },
          "execution_count": 58
        }
      ]
    },
    {
      "cell_type": "code",
      "metadata": {
        "id": "AlQzYZcIORu0",
        "colab_type": "code",
        "outputId": "11643ad0-fe0a-409e-c9aa-32e29cf0ffde",
        "colab": {
          "base_uri": "https://localhost:8080/",
          "height": 34
        }
      },
      "source": [
        "df_col.shape"
      ],
      "execution_count": 59,
      "outputs": [
        {
          "output_type": "execute_result",
          "data": {
            "text/plain": [
              "(22552, 16)"
            ]
          },
          "metadata": {
            "tags": []
          },
          "execution_count": 59
        }
      ]
    },
    {
      "cell_type": "code",
      "metadata": {
        "id": "1Sd5hC5UxgvB",
        "colab_type": "code",
        "colab": {
          "base_uri": "https://localhost:8080/",
          "height": 177
        },
        "outputId": "c1af5515-641f-40d0-d35e-faef5cb0c26a"
      },
      "source": [
        "df_col['price'].plot(kind='box', xlim=(0, 10000), vert=False,  figsize=(16,2));"
      ],
      "execution_count": 60,
      "outputs": [
        {
          "output_type": "display_data",
          "data": {
            "image/png": "[encoded data removed]",
            "text/plain": [
              "<Figure size 1152x144 with 1 Axes>"
            ]
          },
          "metadata": {
            "tags": []
          }
        }
      ]
    },
    {
      "cell_type": "code",
      "metadata": {
        "id": "rgtVXO6ZyCiw",
        "colab_type": "code",
        "colab": {
          "base_uri": "https://localhost:8080/",
          "height": 177
        },
        "outputId": "a77cf999-ec12-4b8f-8799-6bd292e72bd3"
      },
      "source": [
        "df_col['price'].plot(kind='box', xlim=(0, 2000), vert=False,  figsize=(16,2));"
      ],
      "execution_count": 61,
      "outputs": [
        {
          "output_type": "display_data",
          "data": {
            "image/png": "[encoded data removed]",
            "text/plain": [
              "<Figure size 1152x144 with 1 Axes>"
            ]
          },
          "metadata": {
            "tags": []
          }
        }
      ]
    },
    {
      "cell_type": "markdown",
      "metadata": {
        "id": "8vUUPDgrxfQ1",
        "colab_type": "text"
      },
      "source": [
        ""
      ]
    },
    {
      "cell_type": "code",
      "metadata": {
        "id": "oFEtqhmJN7ic",
        "colab_type": "code",
        "colab": {}
      },
      "source": [
        "df_wo_ol = df_col[(df_col['price'] > 7 )& (df_raw['price'] <= 750)]"
      ],
      "execution_count": 0,
      "outputs": []
    },
    {
      "cell_type": "code",
      "metadata": {
        "id": "WNU1qs3rOTv1",
        "colab_type": "code",
        "outputId": "6285d532-0f30-48b0-e47c-b3e97f925cca",
        "colab": {
          "base_uri": "https://localhost:8080/",
          "height": 34
        }
      },
      "source": [
        "df_col.shape,df_wo_ol.shape"
      ],
      "execution_count": 65,
      "outputs": [
        {
          "output_type": "execute_result",
          "data": {
            "text/plain": [
              "((22552, 16), (22492, 16))"
            ]
          },
          "metadata": {
            "tags": []
          },
          "execution_count": 65
        }
      ]
    },
    {
      "cell_type": "code",
      "metadata": {
        "id": "bKZ61n9qOVUY",
        "colab_type": "code",
        "outputId": "02dfdc4f-a1d6-4b17-c816-81a25fa17d65",
        "colab": {
          "base_uri": "https://localhost:8080/",
          "height": 315
        }
      },
      "source": [
        "df_wo_ol.describe()"
      ],
      "execution_count": 66,
      "outputs": [
        {
          "output_type": "execute_result",
          "data": {
            "text/html": [
              "<div>\n",
              "<style scoped>\n",
              "    .dataframe tbody tr th:only-of-type {\n",
              "        vertical-align: middle;\n",
              "    }\n",
              "\n",
              "    .dataframe tbody tr th {\n",
              "        vertical-align: top;\n",
              "    }\n",
              "\n",
              "    .dataframe thead th {\n",
              "        text-align: right;\n",
              "    }\n",
              "</style>\n",
              "<table border=\"1\" class=\"dataframe\">\n",
              "  <thead>\n",
              "    <tr style=\"text-align: right;\">\n",
              "      <th></th>\n",
              "      <th>price</th>\n",
              "      <th>cleaning_fee</th>\n",
              "      <th>accommodates</th>\n",
              "      <th>minimum_nights</th>\n",
              "      <th>bedrooms</th>\n",
              "      <th>bathrooms</th>\n",
              "      <th>extra_people</th>\n",
              "    </tr>\n",
              "  </thead>\n",
              "  <tbody>\n",
              "    <tr>\n",
              "      <th>count</th>\n",
              "      <td>22492.000000</td>\n",
              "      <td>22492.000000</td>\n",
              "      <td>22492.000000</td>\n",
              "      <td>22492.000000</td>\n",
              "      <td>22474.000000</td>\n",
              "      <td>22460.000000</td>\n",
              "      <td>22492.000000</td>\n",
              "    </tr>\n",
              "    <tr>\n",
              "      <th>mean</th>\n",
              "      <td>58.656545</td>\n",
              "      <td>18.165748</td>\n",
              "      <td>2.632758</td>\n",
              "      <td>7.165614</td>\n",
              "      <td>1.159473</td>\n",
              "      <td>1.091741</td>\n",
              "      <td>8.264272</td>\n",
              "    </tr>\n",
              "    <tr>\n",
              "      <th>std</th>\n",
              "      <td>47.727855</td>\n",
              "      <td>24.808675</td>\n",
              "      <td>1.490482</td>\n",
              "      <td>40.713285</td>\n",
              "      <td>0.639009</td>\n",
              "      <td>0.325615</td>\n",
              "      <td>11.143833</td>\n",
              "    </tr>\n",
              "    <tr>\n",
              "      <th>min</th>\n",
              "      <td>8.000000</td>\n",
              "      <td>0.000000</td>\n",
              "      <td>1.000000</td>\n",
              "      <td>1.000000</td>\n",
              "      <td>0.000000</td>\n",
              "      <td>0.000000</td>\n",
              "      <td>0.000000</td>\n",
              "    </tr>\n",
              "    <tr>\n",
              "      <th>25%</th>\n",
              "      <td>30.000000</td>\n",
              "      <td>0.000000</td>\n",
              "      <td>2.000000</td>\n",
              "      <td>2.000000</td>\n",
              "      <td>1.000000</td>\n",
              "      <td>1.000000</td>\n",
              "      <td>0.000000</td>\n",
              "    </tr>\n",
              "    <tr>\n",
              "      <th>50%</th>\n",
              "      <td>45.000000</td>\n",
              "      <td>10.000000</td>\n",
              "      <td>2.000000</td>\n",
              "      <td>2.000000</td>\n",
              "      <td>1.000000</td>\n",
              "      <td>1.000000</td>\n",
              "      <td>5.000000</td>\n",
              "    </tr>\n",
              "    <tr>\n",
              "      <th>75%</th>\n",
              "      <td>70.000000</td>\n",
              "      <td>30.000000</td>\n",
              "      <td>3.000000</td>\n",
              "      <td>4.000000</td>\n",
              "      <td>1.000000</td>\n",
              "      <td>1.000000</td>\n",
              "      <td>15.000000</td>\n",
              "    </tr>\n",
              "    <tr>\n",
              "      <th>max</th>\n",
              "      <td>666.000000</td>\n",
              "      <td>450.000000</td>\n",
              "      <td>16.000000</td>\n",
              "      <td>5000.000000</td>\n",
              "      <td>10.000000</td>\n",
              "      <td>8.500000</td>\n",
              "      <td>250.000000</td>\n",
              "    </tr>\n",
              "  </tbody>\n",
              "</table>\n",
              "</div>"
            ],
            "text/plain": [
              "              price  cleaning_fee  ...     bathrooms  extra_people\n",
              "count  22492.000000  22492.000000  ...  22460.000000  22492.000000\n",
              "mean      58.656545     18.165748  ...      1.091741      8.264272\n",
              "std       47.727855     24.808675  ...      0.325615     11.143833\n",
              "min        8.000000      0.000000  ...      0.000000      0.000000\n",
              "25%       30.000000      0.000000  ...      1.000000      0.000000\n",
              "50%       45.000000     10.000000  ...      1.000000      5.000000\n",
              "75%       70.000000     30.000000  ...      1.000000     15.000000\n",
              "max      666.000000    450.000000  ...      8.500000    250.000000\n",
              "\n",
              "[8 rows x 7 columns]"
            ]
          },
          "metadata": {
            "tags": []
          },
          "execution_count": 66
        }
      ]
    },
    {
      "cell_type": "code",
      "metadata": {
        "id": "TiUC5QGiOYHW",
        "colab_type": "code",
        "outputId": "e64d058b-8a84-460f-fe59-dfbf5787fd80",
        "colab": {
          "base_uri": "https://localhost:8080/",
          "height": 308
        }
      },
      "source": [
        "df_wo_ol.isnull().sum()"
      ],
      "execution_count": 67,
      "outputs": [
        {
          "output_type": "execute_result",
          "data": {
            "text/plain": [
              "price                             0\n",
              "cleaning_fee                      0\n",
              "accommodates                      0\n",
              "minimum_nights                    0\n",
              "bedrooms                         18\n",
              "bathrooms                        32\n",
              "neighbourhood_group_cleansed      0\n",
              "room_type                         0\n",
              "description                     202\n",
              "extra_people                      0\n",
              "Laptop_friendly_workspace         0\n",
              "TV                                0\n",
              "Wifi                              0\n",
              "Family_kid_friendly               0\n",
              "Host_greets_you                   0\n",
              "Smoking_allowed                   0\n",
              "dtype: int64"
            ]
          },
          "metadata": {
            "tags": []
          },
          "execution_count": 67
        }
      ]
    },
    {
      "cell_type": "code",
      "metadata": {
        "id": "klgJs6xYO0XT",
        "colab_type": "code",
        "colab": {}
      },
      "source": [
        "df_clean = df_wo_ol.dropna()"
      ],
      "execution_count": 0,
      "outputs": []
    },
    {
      "cell_type": "code",
      "metadata": {
        "id": "FZx6q6IVPsHa",
        "colab_type": "code",
        "outputId": "a0c219a7-9bb4-4efe-b08b-154c39b40f36",
        "colab": {
          "base_uri": "https://localhost:8080/",
          "height": 308
        }
      },
      "source": [
        "df_clean.isnull().sum()"
      ],
      "execution_count": 69,
      "outputs": [
        {
          "output_type": "execute_result",
          "data": {
            "text/plain": [
              "price                           0\n",
              "cleaning_fee                    0\n",
              "accommodates                    0\n",
              "minimum_nights                  0\n",
              "bedrooms                        0\n",
              "bathrooms                       0\n",
              "neighbourhood_group_cleansed    0\n",
              "room_type                       0\n",
              "description                     0\n",
              "extra_people                    0\n",
              "Laptop_friendly_workspace       0\n",
              "TV                              0\n",
              "Wifi                            0\n",
              "Family_kid_friendly             0\n",
              "Host_greets_you                 0\n",
              "Smoking_allowed                 0\n",
              "dtype: int64"
            ]
          },
          "metadata": {
            "tags": []
          },
          "execution_count": 69
        }
      ]
    },
    {
      "cell_type": "code",
      "metadata": {
        "id": "9CDTs7m7mobX",
        "colab_type": "code",
        "outputId": "5362bb39-ba18-463c-d90a-df400999f060",
        "colab": {
          "base_uri": "https://localhost:8080/",
          "height": 243
        }
      },
      "source": [
        "df_clean.describe(exclude='number')"
      ],
      "execution_count": 70,
      "outputs": [
        {
          "output_type": "execute_result",
          "data": {
            "text/html": [
              "<div>\n",
              "<style scoped>\n",
              "    .dataframe tbody tr th:only-of-type {\n",
              "        vertical-align: middle;\n",
              "    }\n",
              "\n",
              "    .dataframe tbody tr th {\n",
              "        vertical-align: top;\n",
              "    }\n",
              "\n",
              "    .dataframe thead th {\n",
              "        text-align: right;\n",
              "    }\n",
              "</style>\n",
              "<table border=\"1\" class=\"dataframe\">\n",
              "  <thead>\n",
              "    <tr style=\"text-align: right;\">\n",
              "      <th></th>\n",
              "      <th>neighbourhood_group_cleansed</th>\n",
              "      <th>room_type</th>\n",
              "      <th>description</th>\n",
              "      <th>Laptop_friendly_workspace</th>\n",
              "      <th>TV</th>\n",
              "      <th>Wifi</th>\n",
              "      <th>Family_kid_friendly</th>\n",
              "      <th>Host_greets_you</th>\n",
              "      <th>Smoking_allowed</th>\n",
              "    </tr>\n",
              "  </thead>\n",
              "  <tbody>\n",
              "    <tr>\n",
              "      <th>count</th>\n",
              "      <td>22240</td>\n",
              "      <td>22240</td>\n",
              "      <td>22240</td>\n",
              "      <td>22240</td>\n",
              "      <td>22240</td>\n",
              "      <td>22240</td>\n",
              "      <td>22240</td>\n",
              "      <td>22240</td>\n",
              "      <td>22240</td>\n",
              "    </tr>\n",
              "    <tr>\n",
              "      <th>unique</th>\n",
              "      <td>12</td>\n",
              "      <td>3</td>\n",
              "      <td>21901</td>\n",
              "      <td>2</td>\n",
              "      <td>2</td>\n",
              "      <td>2</td>\n",
              "      <td>2</td>\n",
              "      <td>2</td>\n",
              "      <td>2</td>\n",
              "    </tr>\n",
              "    <tr>\n",
              "      <th>top</th>\n",
              "      <td>Friedrichshain-Kreuzberg</td>\n",
              "      <td>Private room</td>\n",
              "      <td>We are located in one of the most colorful dis...</td>\n",
              "      <td>True</td>\n",
              "      <td>False</td>\n",
              "      <td>True</td>\n",
              "      <td>False</td>\n",
              "      <td>False</td>\n",
              "      <td>False</td>\n",
              "    </tr>\n",
              "    <tr>\n",
              "      <th>freq</th>\n",
              "      <td>5440</td>\n",
              "      <td>11362</td>\n",
              "      <td>12</td>\n",
              "      <td>14280</td>\n",
              "      <td>12150</td>\n",
              "      <td>21227</td>\n",
              "      <td>14132</td>\n",
              "      <td>15635</td>\n",
              "      <td>17722</td>\n",
              "    </tr>\n",
              "  </tbody>\n",
              "</table>\n",
              "</div>"
            ],
            "text/plain": [
              "       neighbourhood_group_cleansed  ... Smoking_allowed\n",
              "count                         22240  ...           22240\n",
              "unique                           12  ...               2\n",
              "top        Friedrichshain-Kreuzberg  ...           False\n",
              "freq                           5440  ...           17722\n",
              "\n",
              "[4 rows x 9 columns]"
            ]
          },
          "metadata": {
            "tags": []
          },
          "execution_count": 70
        }
      ]
    },
    {
      "cell_type": "code",
      "metadata": {
        "id": "NJpeh8QtPvgK",
        "colab_type": "code",
        "outputId": "c8c3937a-c1b0-458f-f6d0-51fc206fb2fe",
        "colab": {
          "base_uri": "https://localhost:8080/",
          "height": 34
        }
      },
      "source": [
        "df_clean.shape"
      ],
      "execution_count": 71,
      "outputs": [
        {
          "output_type": "execute_result",
          "data": {
            "text/plain": [
              "(22240, 16)"
            ]
          },
          "metadata": {
            "tags": []
          },
          "execution_count": 71
        }
      ]
    },
    {
      "cell_type": "code",
      "metadata": {
        "id": "onbP_PkMPx1D",
        "colab_type": "code",
        "colab": {}
      },
      "source": [
        "df_clean.to_csv('airbnb.csv')"
      ],
      "execution_count": 0,
      "outputs": []
    },
    {
      "cell_type": "code",
      "metadata": {
        "id": "rWqwmZLJP6y0",
        "colab_type": "code",
        "outputId": "e69398f4-6ca2-4070-8eb7-78059b64442b",
        "colab": {
          "base_uri": "https://localhost:8080/",
          "height": 497
        }
      },
      "source": [
        "df_clean.head()"
      ],
      "execution_count": 73,
      "outputs": [
        {
          "output_type": "execute_result",
          "data": {
            "text/html": [
              "<div>\n",
              "<style scoped>\n",
              "    .dataframe tbody tr th:only-of-type {\n",
              "        vertical-align: middle;\n",
              "    }\n",
              "\n",
              "    .dataframe tbody tr th {\n",
              "        vertical-align: top;\n",
              "    }\n",
              "\n",
              "    .dataframe thead th {\n",
              "        text-align: right;\n",
              "    }\n",
              "</style>\n",
              "<table border=\"1\" class=\"dataframe\">\n",
              "  <thead>\n",
              "    <tr style=\"text-align: right;\">\n",
              "      <th></th>\n",
              "      <th>price</th>\n",
              "      <th>cleaning_fee</th>\n",
              "      <th>accommodates</th>\n",
              "      <th>minimum_nights</th>\n",
              "      <th>bedrooms</th>\n",
              "      <th>bathrooms</th>\n",
              "      <th>neighbourhood_group_cleansed</th>\n",
              "      <th>room_type</th>\n",
              "      <th>description</th>\n",
              "      <th>extra_people</th>\n",
              "      <th>Laptop_friendly_workspace</th>\n",
              "      <th>TV</th>\n",
              "      <th>Wifi</th>\n",
              "      <th>Family_kid_friendly</th>\n",
              "      <th>Host_greets_you</th>\n",
              "      <th>Smoking_allowed</th>\n",
              "    </tr>\n",
              "  </thead>\n",
              "  <tbody>\n",
              "    <tr>\n",
              "      <th>0</th>\n",
              "      <td>60.0</td>\n",
              "      <td>30.0</td>\n",
              "      <td>3</td>\n",
              "      <td>4</td>\n",
              "      <td>1.0</td>\n",
              "      <td>1.0</td>\n",
              "      <td>Mitte</td>\n",
              "      <td>Entire home/apt</td>\n",
              "      <td>Great location!  30 of 75 sq meters. This wood...</td>\n",
              "      <td>28.0</td>\n",
              "      <td>True</td>\n",
              "      <td>True</td>\n",
              "      <td>True</td>\n",
              "      <td>True</td>\n",
              "      <td>False</td>\n",
              "      <td>False</td>\n",
              "    </tr>\n",
              "    <tr>\n",
              "      <th>1</th>\n",
              "      <td>17.0</td>\n",
              "      <td>0.0</td>\n",
              "      <td>2</td>\n",
              "      <td>2</td>\n",
              "      <td>1.0</td>\n",
              "      <td>1.0</td>\n",
              "      <td>Pankow</td>\n",
              "      <td>Private room</td>\n",
              "      <td>In the summertime we are spending most of our ...</td>\n",
              "      <td>0.0</td>\n",
              "      <td>True</td>\n",
              "      <td>False</td>\n",
              "      <td>True</td>\n",
              "      <td>False</td>\n",
              "      <td>False</td>\n",
              "      <td>False</td>\n",
              "    </tr>\n",
              "    <tr>\n",
              "      <th>2</th>\n",
              "      <td>90.0</td>\n",
              "      <td>50.0</td>\n",
              "      <td>4</td>\n",
              "      <td>62</td>\n",
              "      <td>1.0</td>\n",
              "      <td>1.0</td>\n",
              "      <td>Pankow</td>\n",
              "      <td>Entire home/apt</td>\n",
              "      <td>This beautiful first floor apartment  is situa...</td>\n",
              "      <td>20.0</td>\n",
              "      <td>True</td>\n",
              "      <td>False</td>\n",
              "      <td>True</td>\n",
              "      <td>True</td>\n",
              "      <td>False</td>\n",
              "      <td>False</td>\n",
              "    </tr>\n",
              "    <tr>\n",
              "      <th>3</th>\n",
              "      <td>26.0</td>\n",
              "      <td>30.0</td>\n",
              "      <td>2</td>\n",
              "      <td>5</td>\n",
              "      <td>1.0</td>\n",
              "      <td>1.0</td>\n",
              "      <td>Tempelhof - Schöneberg</td>\n",
              "      <td>Private room</td>\n",
              "      <td>First of all: I prefer short-notice bookings. ...</td>\n",
              "      <td>18.0</td>\n",
              "      <td>True</td>\n",
              "      <td>False</td>\n",
              "      <td>True</td>\n",
              "      <td>False</td>\n",
              "      <td>True</td>\n",
              "      <td>False</td>\n",
              "    </tr>\n",
              "    <tr>\n",
              "      <th>4</th>\n",
              "      <td>42.0</td>\n",
              "      <td>0.0</td>\n",
              "      <td>2</td>\n",
              "      <td>2</td>\n",
              "      <td>1.0</td>\n",
              "      <td>1.0</td>\n",
              "      <td>Pankow</td>\n",
              "      <td>Private room</td>\n",
              "      <td>Cozy and large room in the beautiful district ...</td>\n",
              "      <td>24.0</td>\n",
              "      <td>True</td>\n",
              "      <td>False</td>\n",
              "      <td>True</td>\n",
              "      <td>True</td>\n",
              "      <td>False</td>\n",
              "      <td>False</td>\n",
              "    </tr>\n",
              "  </tbody>\n",
              "</table>\n",
              "</div>"
            ],
            "text/plain": [
              "   price  cleaning_fee  ...  Host_greets_you  Smoking_allowed\n",
              "0   60.0          30.0  ...            False            False\n",
              "1   17.0           0.0  ...            False            False\n",
              "2   90.0          50.0  ...            False            False\n",
              "3   26.0          30.0  ...             True            False\n",
              "4   42.0           0.0  ...            False            False\n",
              "\n",
              "[5 rows x 16 columns]"
            ]
          },
          "metadata": {
            "tags": []
          },
          "execution_count": 73
        }
      ]
    },
    {
      "cell_type": "code",
      "metadata": {
        "id": "6K0LTEoXpqes",
        "colab_type": "code",
        "outputId": "ffe25727-1fb6-417b-ab89-da51d113531a",
        "colab": {
          "base_uri": "https://localhost:8080/",
          "height": 308
        }
      },
      "source": [
        "df_clean.dtypes"
      ],
      "execution_count": 74,
      "outputs": [
        {
          "output_type": "execute_result",
          "data": {
            "text/plain": [
              "price                           float64\n",
              "cleaning_fee                    float64\n",
              "accommodates                      int64\n",
              "minimum_nights                    int64\n",
              "bedrooms                        float64\n",
              "bathrooms                       float64\n",
              "neighbourhood_group_cleansed     object\n",
              "room_type                        object\n",
              "description                      object\n",
              "extra_people                    float64\n",
              "Laptop_friendly_workspace          bool\n",
              "TV                                 bool\n",
              "Wifi                               bool\n",
              "Family_kid_friendly                bool\n",
              "Host_greets_you                    bool\n",
              "Smoking_allowed                    bool\n",
              "dtype: object"
            ]
          },
          "metadata": {
            "tags": []
          },
          "execution_count": 74
        }
      ]
    },
    {
      "cell_type": "code",
      "metadata": {
        "id": "A7KoojX_q68U",
        "colab_type": "code",
        "colab": {}
      },
      "source": [
        ""
      ],
      "execution_count": 0,
      "outputs": []
    }
  ]
}